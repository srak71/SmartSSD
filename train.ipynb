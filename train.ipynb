{
 "cells": [
  {
   "cell_type": "code",
   "execution_count": 3,
   "id": "a7580c2f",
   "metadata": {},
   "outputs": [],
   "source": [
    "import tensorflow as tf "
   ]
  },
  {
   "cell_type": "markdown",
   "id": "344d7b0b",
   "metadata": {},
   "source": [
    "The NEU-CLS dataset has 1800 grayscale images of steel surface defects (200×200 pixels) in six classes: rolled-in scale, patches, crazing, pitted surface, inclusion, and scratches.\n",
    "\n",
    "The dataset is organized into subdirectories per class in separate train/images and validation/images directories. Example: training images might be in .../train/images/scratches/ and similarly for the other classes. \n",
    "\n",
    "I would define my steps for training the classification model as follows:\n",
    "\n",
    "    - Proper loading of NEU data\n",
    "    - Augment training set images for more data\n",
    "    - normalize both train and val images for unified comparison\n",
    "    - define our Convolution Neural Net model\n",
    "    - trainings with validation loop\n",
    "    - save best model into project directory"
   ]
  },
  {
   "cell_type": "markdown",
   "id": "2cd4f242",
   "metadata": {},
   "source": [
    "# Proper loading of NEU data.\n"
   ]
  },
  {
   "cell_type": "code",
   "execution_count": null,
   "id": "47714c66",
   "metadata": {},
   "outputs": [],
   "source": [
    "# paths paths\n",
    "train_dir = r\"C:\\Users\\sar-home\\Projects\\SmartSSD\\NEU-CLS\\train\\images\"\n",
    "val_dir   = r\"C:\\Users\\sar-home\\Projects\\SmartSSD\\NEU-CLS\\validation\\images\"\n",
    "image_size = (128, 128)\n",
    "batch_size = 32\n",
    "epochs = 10\n",
    "num_classes = 6"
   ]
  },
  {
   "cell_type": "markdown",
   "id": "62f04fd3",
   "metadata": {},
   "source": [
    "# Augmenting images from training only, normalizing train+val images for unified compare "
   ]
  },
  {
   "cell_type": "code",
   "execution_count": null,
   "id": "d7af7347",
   "metadata": {},
   "outputs": [
    {
     "name": "stdout",
     "output_type": "stream",
     "text": [
      "Found 1440 images belonging to 6 classes.\n",
      "Found 360 images belonging to 6 classes.\n"
     ]
    }
   ],
   "source": [
    "train_datagen = tf.keras.preprocessing.image.ImageDataGenerator(\n",
    "    rescale=1./255,\n",
    "    rotation_range=20,          # random rotations\n",
    "    horizontal_flip=True,       # random horizontal flips\n",
    "    brightness_range=(0.8, 1.2) # random brightness\n",
    ")\n",
    "\n",
    "val_datagen = tf.keras.preprocessing.image.ImageDataGenerator(rescale=1./255)\n",
    "\n",
    "train_generator = train_datagen.flow_from_directory(\n",
    "    train_dir,\n",
    "    target_size=image_size,\n",
    "    color_mode='grayscale',\n",
    "    batch_size=batch_size,\n",
    "    class_mode='categorical'\n",
    ")\n",
    "\n",
    "val_generator = val_datagen.flow_from_directory(\n",
    "    val_dir,\n",
    "    target_size=image_size,\n",
    "    color_mode='grayscale',\n",
    "    batch_size=batch_size,\n",
    "    class_mode='categorical'\n",
    ")"
   ]
  },
  {
   "cell_type": "code",
   "execution_count": null,
   "id": "1c644fea",
   "metadata": {},
   "outputs": [],
   "source": []
  }
 ],
 "metadata": {
  "kernelspec": {
   "display_name": "base",
   "language": "python",
   "name": "python3"
  },
  "language_info": {
   "codemirror_mode": {
    "name": "ipython",
    "version": 3
   },
   "file_extension": ".py",
   "mimetype": "text/x-python",
   "name": "python",
   "nbconvert_exporter": "python",
   "pygments_lexer": "ipython3",
   "version": "3.12.3"
  }
 },
 "nbformat": 4,
 "nbformat_minor": 5
}
